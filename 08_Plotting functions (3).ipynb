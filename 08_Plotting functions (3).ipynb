{
 "cells": [
  {
   "cell_type": "markdown",
   "id": "340a8de5",
   "metadata": {},
   "source": [
    ">Below is a copied and translated version of seaborn tutorial (v0.12.2) from the seaborn official docs.\n",
    ">\n",
    ">해당 내용은 seaborn 공식 문서에서 제공하는 seaborn 튜토리얼(v0.12.2)의 단순 필사 및 번역본입니다.  \n",
    ">     \n",
    "> © Copyright 2012-2022, Michael Waskom. (https://seaborn.pydata.org/tutorial.html#)"
   ]
  },
  {
   "cell_type": "markdown",
   "id": "405277be",
   "metadata": {},
   "source": [
    "# 범주형  데이터 시각화\n",
    "Visualizing categorical data"
   ]
  },
  {
   "cell_type": "code",
   "execution_count": 2,
   "id": "67f16ba5",
   "metadata": {},
   "outputs": [],
   "source": [
    "import numpy as np\n",
    "import pandas as pd\n",
    "import matplotlib.pyplot as plt\n",
    "import seaborn as sns\n",
    "sns.set_theme(style='darkgrid')"
   ]
  },
  {
   "cell_type": "markdown",
   "id": "725af813",
   "metadata": {},
   "source": [
    "우리는 [relational plot tutorial](https://seaborn.pydata.org/tutorial/relational.html#relational-tutorial)에서 여러 변수의 관계를 시각화하는 방법에 대해 알아봤습니다. \n",
    "여기서는 두 변수가 수치형인 경우만 예제로 다뤘습니다. \n",
    "이와 달리 변수 중에 범주형(categorical; 범위가 구분됨)이 있는 경우, 이에 맞는 접근법이 필요합니다.  \n",
    "<br>\n",
    "seaborn에는 범주형 데이터가 포함된 관계를 시각화할 수 있는 몇가지 방법이 있습니다. \n",
    "`relplot()`과 `scatterplot()`, `lineplot()`의 관계처럼, 지금 알아볼 플롯도 만드는 방법은 2가지가 있습니다. \n",
    "범주형 데이터를 plot하는 몇가지의 axes-level function이 있고, 이 함수들을 합쳐놓은 상위 레벨의 figure-level function인 `catplot()`이 있습니다.  \n",
    "<br>\n",
    "범주형 플롯의 종류는 크게 3가지로 나뉜다고 보면 됩니다. \n",
    "자세한 내용은 아래에서 살펴보겠습니다 :"
   ]
  },
  {
   "cell_type": "markdown",
   "id": "aaf12247",
   "metadata": {},
   "source": [
    "Categorical scatterplots 범주형 산점도 :\n",
    "* `stripplot()` (`kind=\"strip\"` ; default) \n",
    "* `swarmplot()` (`kind=\"swarm\"`)  \n",
    "\n",
    "<br>\n",
    "\n",
    "Categorical distribution plots 범주형 분포도 :\n",
    "* `boxplot() (`kind=\"box\"`)\n",
    "* `violinplot() (`kind=\"violin\"`)\n",
    "* `boxenplot() (`kind=\"boxen\"`)  \n",
    "\n",
    "<br>\n",
    "\n",
    "Categorical estimate plots :\n",
    "* `pointplot()` (`kind=\"point\"`)\n",
    "* `barplot()` (`kind=\"bar\"`)\n",
    "* `countplot()` (`kind=\"count\"`)\n"
   ]
  },
  {
   "cell_type": "markdown",
   "id": "4ba8cd37",
   "metadata": {},
   "source": [
    "이러한 분류는 데이터가 세분화된 레벨에 따라 달라집니다. \n",
    "어떤 질문에 대한 답을 할 것인지를 정하고 그에 따라 어떤 방법을 사용할지 결정해야 합니다. \n",
    "통합 API를 사용하면 여러 종류의 plot을 쉽게 전환하고 다양한 관점에서 데이터를 볼 수 있다는 장점이 있습니다.  \n",
    "  \n",
    "이번 장에서는 주로 figure-level interface 인 `catplot()`에 대해 다룰 것입니다. 이 plot이 다른 function들을 포함하는 function (a higher-level interface)이라는 것을 기억하세요. 각 plot 예제마다 다른 방법으로도 표현을 해볼 예정이지만 세부적인 내용은 API 문서를 참고해주세요."
   ]
  },
  {
   "cell_type": "markdown",
   "id": "994c84aa",
   "metadata": {},
   "source": [
    "## 범주형 scatterplot\n",
    "Categorical scatterplots"
   ]
  },
  {
   "cell_type": "code",
   "execution_count": null,
   "id": "07c3669d",
   "metadata": {},
   "outputs": [],
   "source": []
  }
 ],
 "metadata": {
  "kernelspec": {
   "display_name": "Python 3 (ipykernel)",
   "language": "python",
   "name": "python3"
  },
  "language_info": {
   "codemirror_mode": {
    "name": "ipython",
    "version": 3
   },
   "file_extension": ".py",
   "mimetype": "text/x-python",
   "name": "python",
   "nbconvert_exporter": "python",
   "pygments_lexer": "ipython3",
   "version": "3.9.13"
  },
  "toc": {
   "base_numbering": 1,
   "nav_menu": {},
   "number_sections": true,
   "sideBar": true,
   "skip_h1_title": false,
   "title_cell": "Table of Contents",
   "title_sidebar": "Contents",
   "toc_cell": false,
   "toc_position": {},
   "toc_section_display": true,
   "toc_window_display": false
  },
  "varInspector": {
   "cols": {
    "lenName": 16,
    "lenType": 16,
    "lenVar": 40
   },
   "kernels_config": {
    "python": {
     "delete_cmd_postfix": "",
     "delete_cmd_prefix": "del ",
     "library": "var_list.py",
     "varRefreshCmd": "print(var_dic_list())"
    },
    "r": {
     "delete_cmd_postfix": ") ",
     "delete_cmd_prefix": "rm(",
     "library": "var_list.r",
     "varRefreshCmd": "cat(var_dic_list()) "
    }
   },
   "types_to_exclude": [
    "module",
    "function",
    "builtin_function_or_method",
    "instance",
    "_Feature"
   ],
   "window_display": false
  }
 },
 "nbformat": 4,
 "nbformat_minor": 5
}

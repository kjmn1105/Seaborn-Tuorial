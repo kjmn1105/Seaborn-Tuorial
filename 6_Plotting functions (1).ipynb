{
 "cells": [
  {
   "cell_type": "markdown",
   "id": "340a8de5",
   "metadata": {},
   "source": [
    ">Below is a copied and translated version of seaborn tutorial (v0.12.2) from the seaborn official docs.\n",
    ">\n",
    ">해당 내용은 seaborn 공식 문서에서 제공하는 seaborn 튜토리얼(v0.12.2)의 단순 필사 및 번역본입니다.  \n",
    ">     \n",
    "> © Copyright 2012-2022, Michael Waskom. (https://seaborn.pydata.org/tutorial.html#)"
   ]
  },
  {
   "cell_type": "markdown",
   "id": "405277be",
   "metadata": {},
   "source": [
    "# 통계적 관계 시각화\n",
    "Visualizing statistical relationships"
   ]
  },
  {
   "cell_type": "markdown",
   "id": "62ea1f83",
   "metadata": {},
   "source": [
    "통계분석(stastical analysis)는 데이터셋의 변수들간의 관계와 그 관계의 의존성을 이해하는 프로세스 라고 할 수 있습니다. (데이터를 제대로 시각화한다는 가정 하에) 사람의 시각은 관계를 나타내는 추세와 패턴을 볼 수 있기 때문에 시각화는 통계분석에서 핵심 요소라고 입니다.  \n",
    "<br>\n",
    "이 튜토리얼에서는 seaborn의 3가지 function에 대해 알아보겠습니다. 가장 많이 사용하는 `relplot()` 은 두 가지 접근법(scatter, line)을 통해 통계적 관계를 시각화하는 figure-level function 입니다. `relplot()`은 `FacetGrid`를 axes-level function 둘 중 하나와 결헙합니다 :  \n",
    "* `kind=\"scatter\"`인 `scatterplot()` \n",
    "* `kind=\"line\"`인 `lineplot()`  \n",
    "\n",
    "<br>\n",
    "앞으로 자세히 살펴보겠지만, 이 함수들은 간단하고 이해하기 쉬운 데이터 표현을 사용합니다. 그러면서도\n",
    " 색조(hue), 크기(size), 스타일(style)을 이용해사 2차원 그래픽에 최대 3개의 추가 변수를 맵핑할 수 있습니다. 덕분에 쉬운 표현으로 복잡한 데이터 집합 구조를 나타낼 수 있게 되는, 매우 유용한 함수입니다."
   ]
  },
  {
   "cell_type": "code",
   "execution_count": 1,
   "id": "67f16ba5",
   "metadata": {},
   "outputs": [],
   "source": [
    "import numpy as np\n",
    "import pandas as pd\n",
    "import matplotlib.pyplot as plt\n",
    "import seaborn as sns\n",
    "sns.set_theme(style='darkgrid')"
   ]
  },
  {
   "cell_type": "markdown",
   "id": "092ce160",
   "metadata": {},
   "source": [
    "## 1. 산점도(scatter plot)으로 변수 간의 관계 나타내기\n",
    "Relating variables with scatter plots"
   ]
  },
  {
   "cell_type": "code",
   "execution_count": null,
   "id": "1be73f2a",
   "metadata": {},
   "outputs": [],
   "source": []
  }
 ],
 "metadata": {
  "kernelspec": {
   "display_name": "Python 3 (ipykernel)",
   "language": "python",
   "name": "python3"
  },
  "language_info": {
   "codemirror_mode": {
    "name": "ipython",
    "version": 3
   },
   "file_extension": ".py",
   "mimetype": "text/x-python",
   "name": "python",
   "nbconvert_exporter": "python",
   "pygments_lexer": "ipython3",
   "version": "3.9.13"
  },
  "toc": {
   "base_numbering": 1,
   "nav_menu": {},
   "number_sections": true,
   "sideBar": true,
   "skip_h1_title": false,
   "title_cell": "Table of Contents",
   "title_sidebar": "Contents",
   "toc_cell": false,
   "toc_position": {},
   "toc_section_display": true,
   "toc_window_display": false
  },
  "varInspector": {
   "cols": {
    "lenName": 16,
    "lenType": 16,
    "lenVar": 40
   },
   "kernels_config": {
    "python": {
     "delete_cmd_postfix": "",
     "delete_cmd_prefix": "del ",
     "library": "var_list.py",
     "varRefreshCmd": "print(var_dic_list())"
    },
    "r": {
     "delete_cmd_postfix": ") ",
     "delete_cmd_prefix": "rm(",
     "library": "var_list.r",
     "varRefreshCmd": "cat(var_dic_list()) "
    }
   },
   "types_to_exclude": [
    "module",
    "function",
    "builtin_function_or_method",
    "instance",
    "_Feature"
   ],
   "window_display": false
  }
 },
 "nbformat": 4,
 "nbformat_minor": 5
}
